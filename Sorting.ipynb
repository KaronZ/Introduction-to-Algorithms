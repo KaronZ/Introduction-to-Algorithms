{
 "cells": [
  {
   "cell_type": "code",
   "execution_count": 8,
   "metadata": {
    "collapsed": true
   },
   "outputs": [],
   "source": [
    "import numpy as np\n",
    "import pandas as pd\n",
    "import math"
   ]
  },
  {
   "cell_type": "code",
   "execution_count": 41,
   "metadata": {
    "collapsed": true
   },
   "outputs": [],
   "source": [
    "def insert_sorting(A):\n",
    "    n = len(A)\n",
    "    j = 1\n",
    "    for j in range(1, n):\n",
    "        i = j - 1\n",
    "        key = A[j]   #当前要插入的进行排序的值   \n",
    "        while i >= 0  and A[i] > key:    \n",
    "            A[i + 1] = A[i]\n",
    "            A[i] = key\n",
    "            i = i - 1\n",
    "        j = j + 1\n",
    "    \n",
    "    return A\n",
    "            "
   ]
  },
  {
   "cell_type": "code",
   "execution_count": 44,
   "metadata": {
    "collapsed": true
   },
   "outputs": [],
   "source": [
    "A=[6,4,3,2,8,7]\n",
    "A_s = insert_sorting(A)"
   ]
  },
  {
   "cell_type": "code",
   "execution_count": 45,
   "metadata": {
    "collapsed": false
   },
   "outputs": [
    {
     "data": {
      "text/plain": [
       "[2, 3, 4, 6, 7, 8]"
      ]
     },
     "execution_count": 45,
     "metadata": {},
     "output_type": "execute_result"
    }
   ],
   "source": [
    "A_s"
   ]
  },
  {
   "cell_type": "code",
   "execution_count": 75,
   "metadata": {
    "collapsed": false
   },
   "outputs": [],
   "source": [
    "def merge_sorting(A, p, r):\n",
    "    def merge(A, p, q, r):\n",
    "        p = int(p)\n",
    "        q = int(q)\n",
    "        r = int(r)\n",
    "        n1 = int(q - p + 1)\n",
    "        n2 = int(r - q)\n",
    "        L = [0]*n1\n",
    "        R = [0]*n2\n",
    "        \n",
    "        i= 0 \n",
    "        for i in range(0, n1):\n",
    "            L[i] = A[p + i]\n",
    "            i += 1\n",
    "        j = 0 \n",
    "        for j in range(0, n2):\n",
    "            R[j] = A[q + 1 + j]\n",
    "            j += 1\n",
    "            \n",
    "        m = 0\n",
    "        n = 0\n",
    "        k = p\n",
   
    "        while k <= r :\n",
    "            if m >= n1 and n < n2:\n",
    "                A[k] = R[n]\n",
    "                n += 1\n",
    "            if m < n1 and n >= n2:\n",
    "                A[k] = L[m]\n",
    "                m +=1\n",
    "            if m < n1 and n < n2:\n",
    "                if L[m] <= R[n]:\n",
    "                    A[k] = L[m]\n",
    "                    m += 1\n",
    "                else:\n",
    "                    A[k] = R[n]\n",
    "                    n += 1\n",
    "            k += 1\n",
    "        return A\n",
    "    \n",
    "    if p < r:\n",
    "        q = math.floor((p + r) / 2)\n",
    "        A = merge_sorting(A, p, q)\n",
    "        A = merge_sorting(A, q + 1, r)\n",
    "        A = merge(A, p, q, r)\n",
    "    \n",
    "    return A"
   ]
  },
  {
   "cell_type": "code",
   "execution_count": 77,
   "metadata": {
    "collapsed": false
   },
   "outputs": [
    {
     "name": "stdout",
     "output_type": "stream",
     "text": [
      "[5]\n",
      "[2]\n",
      "[2, 5, 4, 7, 1, 3, 2, 6]\n",
      "[4]\n",
      "[7]\n",
      "[2, 5, 4, 7, 1, 3, 2, 6]\n",
      "[2, 5]\n",
      "[4, 7]\n",
      "[2, 4, 5, 7, 1, 3, 2, 6]\n",
      "[1]\n",
      "[3]\n",
      "[2, 4, 5, 7, 1, 3, 2, 6]\n",
      "[2]\n",
      "[6]\n",
      "[2, 4, 5, 7, 1, 3, 2, 6]\n",
      "[1, 3]\n",
      "[2, 6]\n",
      "[2, 4, 5, 7, 1, 2, 3, 6]\n",
      "[2, 4, 5, 7]\n",
      "[1, 2, 3, 6]\n",
      "[1, 2, 2, 3, 4, 5, 6, 7]\n"
     ]
    }
   ],
   "source": [
    "A=[5,2,4,7,1,3,2,6]\n",
    "A_s = merge_sorting(A, 0, 7) #初始调用 p=0, r=A.length-1"
   ]
  },
  {
   "cell_type": "code",
   "execution_count": 78,
   "metadata": {
    "collapsed": false
   },
   "outputs": [
    {
     "data": {
      "text/plain": [
       "[1, 2, 2, 3, 4, 5, 6, 7]"
      ]
     },
     "execution_count": 78,
     "metadata": {},
     "output_type": "execute_result"
    }
   ],
   "source": [
    "A_s"
   ]
  },
  {
   "cell_type": "code",
   "execution_count": null,
   "metadata": {
    "collapsed": true
   },
   "outputs": [],
   "source": []
  }
 ],
 "metadata": {
  "anaconda-cloud": {},
  "kernelspec": {
   "display_name": "Python [conda root]",
   "language": "python",
   "name": "conda-root-py"
  },
  "language_info": {
   "codemirror_mode": {
    "name": "ipython",
    "version": 2
   },
   "file_extension": ".py",
   "mimetype": "text/x-python",
   "name": "python",
   "nbconvert_exporter": "python",
   "pygments_lexer": "ipython2",
   "version": "2.7.12"
  }
 },
 "nbformat": 4,
 "nbformat_minor": 1
}
